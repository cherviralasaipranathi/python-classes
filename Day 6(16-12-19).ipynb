{
 "cells": [
  {
   "cell_type": "markdown",
   "metadata": {},
   "source": [
    "## Collection Type:\n",
    "1. list\n",
    "2. Tuples\n",
    "3. Dictionary"
   ]
  },
  {
   "cell_type": "code",
   "execution_count": 5,
   "metadata": {},
   "outputs": [
    {
     "name": "stdout",
     "output_type": "stream",
     "text": [
      "[25, 9, 32, 10, 19.99, 'abc', True, 45.6, 100]\n",
      "[25, 9, 32, 200, 10, 19.99, 'abc', True, 45.6, 100, 300, 150, 50]\n"
     ]
    }
   ],
   "source": [
    "#list->indexed,ordered,mutable,allows duplicate values\n",
    "list1 = [25,9,32,10,19.99,\"abc\",True]\n",
    "#adding elements\n",
    "list1.append(45.6)\n",
    "list1.append(100)\n",
    "print(list1)\n",
    "list1.insert(3,200)\n",
    "list1.extend([300,150,50])\n",
    "print(list1)"
   ]
  },
  {
   "cell_type": "code",
   "execution_count": 15,
   "metadata": {},
   "outputs": [
    {
     "name": "stdout",
     "output_type": "stream",
     "text": [
      "[]\n",
      "[9, 32, 200, 10, 19.99, 'abc'] 45.6\n"
     ]
    }
   ],
   "source": [
    "#Removing elements--->pop(),remove()\n",
    "del list1[-1]\n",
    "print(list1)\n",
    "list1.extend([9,32,200,10,19.99,\"abc\",45.6])\n",
    "r = list1.pop()\n",
    "print(list1,r)"
   ]
  },
  {
   "cell_type": "code",
   "execution_count": 21,
   "metadata": {},
   "outputs": [
    {
     "name": "stdout",
     "output_type": "stream",
     "text": [
      "[9, 200, 19.99, 'abc']\n"
     ]
    }
   ],
   "source": [
    "#remove\n",
    "list1.remove(10)\n",
    "print(list1)"
   ]
  },
  {
   "cell_type": "code",
   "execution_count": 24,
   "metadata": {},
   "outputs": [
    {
     "name": "stdout",
     "output_type": "stream",
     "text": [
      "[9, 200, 19.99, 'abc', 10, True, 45.6, 30, 10, True, 45.6, 30]\n"
     ]
    }
   ],
   "source": [
    "list1.extend([10,True,45.6,30])\n",
    "print(list1)"
   ]
  },
  {
   "cell_type": "code",
   "execution_count": 25,
   "metadata": {},
   "outputs": [
    {
     "data": {
      "text/plain": [
       "[30, 45.6, True, 10, 30, 45.6, True, 10, 'abc', 19.99, 200, 9]"
      ]
     },
     "execution_count": 25,
     "metadata": {},
     "output_type": "execute_result"
    }
   ],
   "source": [
    "list1.reverse()\n",
    "list1"
   ]
  },
  {
   "cell_type": "code",
   "execution_count": 26,
   "metadata": {},
   "outputs": [
    {
     "ename": "TypeError",
     "evalue": "'<' not supported between instances of 'str' and 'float'",
     "output_type": "error",
     "traceback": [
      "\u001b[1;31m---------------------------------------------------------------------------\u001b[0m",
      "\u001b[1;31mTypeError\u001b[0m                                 Traceback (most recent call last)",
      "\u001b[1;32m<ipython-input-26-fca7193c161a>\u001b[0m in \u001b[0;36m<module>\u001b[1;34m\u001b[0m\n\u001b[1;32m----> 1\u001b[1;33m \u001b[0mlist1\u001b[0m\u001b[1;33m.\u001b[0m\u001b[0msort\u001b[0m\u001b[1;33m(\u001b[0m\u001b[0mreverse\u001b[0m \u001b[1;33m=\u001b[0m \u001b[1;32mTrue\u001b[0m\u001b[1;33m)\u001b[0m\u001b[1;33m\u001b[0m\u001b[1;33m\u001b[0m\u001b[0m\n\u001b[0m\u001b[0;32m      2\u001b[0m \u001b[0mlist1\u001b[0m\u001b[1;33m\u001b[0m\u001b[1;33m\u001b[0m\u001b[0m\n",
      "\u001b[1;31mTypeError\u001b[0m: '<' not supported between instances of 'str' and 'float'"
     ]
    }
   ],
   "source": [
    "list1.sort(reverse = True)\n",
    "list1"
   ]
  },
  {
   "cell_type": "code",
   "execution_count": 28,
   "metadata": {},
   "outputs": [
    {
     "data": {
      "text/plain": [
       "1"
      ]
     },
     "execution_count": 28,
     "metadata": {},
     "output_type": "execute_result"
    }
   ],
   "source": [
    "list1.index(45.6)"
   ]
  },
  {
   "cell_type": "code",
   "execution_count": 31,
   "metadata": {},
   "outputs": [
    {
     "name": "stdout",
     "output_type": "stream",
     "text": [
      "[30, 45.6, True, 10, 30, 45.6, True, 10, 'abc', 200, 19.99, 9]\n"
     ]
    }
   ],
   "source": [
    "list2 = list1\n",
    "print(list2)"
   ]
  },
  {
   "cell_type": "code",
   "execution_count": 32,
   "metadata": {},
   "outputs": [
    {
     "data": {
      "text/plain": [
       "[30, 45.6, True, 10, 30, 45.6, True, 10, 'abc', 200, 19.99, 9]"
      ]
     },
     "execution_count": 32,
     "metadata": {},
     "output_type": "execute_result"
    }
   ],
   "source": [
    "list3 = list2.copy()\n",
    "list3"
   ]
  },
  {
   "cell_type": "code",
   "execution_count": 33,
   "metadata": {},
   "outputs": [
    {
     "name": "stdout",
     "output_type": "stream",
     "text": [
      "[30, 45.6, True, 10, 30, 45.6, True, 10, 'abc', 200, 19.99, 9, 11, 22] [30, 45.6, True, 10, 30, 45.6, True, 10, 'abc', 200, 19.99, 9, 11, 22] [30, 45.6, True, 10, 30, 45.6, True, 10, 'abc', 200, 19.99, 9]\n"
     ]
    }
   ],
   "source": [
    "list1.append(11)\n",
    "list2.append(22)\n",
    "print(list1,list2,list3)"
   ]
  },
  {
   "cell_type": "code",
   "execution_count": 34,
   "metadata": {},
   "outputs": [
    {
     "data": {
      "text/plain": [
       "2"
      ]
     },
     "execution_count": 34,
     "metadata": {},
     "output_type": "execute_result"
    }
   ],
   "source": [
    "list1.count(30)"
   ]
  },
  {
   "cell_type": "code",
   "execution_count": 38,
   "metadata": {},
   "outputs": [
    {
     "name": "stdout",
     "output_type": "stream",
     "text": [
      "enter no.of subjects5\n",
      "30\n",
      "20\n",
      "25\n",
      "26\n",
      "19\n",
      "sum 120\n"
     ]
    }
   ],
   "source": [
    "#Accept three subjects marks of the students at the runtime and store values in the list ,return total marks of subject\n",
    "n = int(input(\"enter no.of subjects\"))\n",
    "marks = []\n",
    "for i in range(n):\n",
    "    marks.append(int(input()))\n",
    "print(\"sum\",sum(marks))"
   ]
  },
  {
   "cell_type": "code",
   "execution_count": 41,
   "metadata": {},
   "outputs": [
    {
     "name": "stdout",
     "output_type": "stream",
     "text": [
      "enter no.of subjects3\n",
      "15\n",
      "56\n",
      "54\n",
      "largest elemnt 56\n"
     ]
    }
   ],
   "source": [
    "n = int(input(\"enter no.of subjects\"))\n",
    "marks = []\n",
    "for i in range(n):\n",
    "    marks.append(int(input()))\n",
    "print(\"largest elemnt\",max(marks))"
   ]
  },
  {
   "cell_type": "code",
   "execution_count": 42,
   "metadata": {},
   "outputs": [
    {
     "data": {
      "text/plain": [
       "(23, 34, 100, 67)"
      ]
     },
     "execution_count": 42,
     "metadata": {},
     "output_type": "execute_result"
    }
   ],
   "source": [
    "#tuple -->indexed,ordered,allows duplicate values, immutable\n",
    "#use()\n",
    "t1 = (23,34,45,67)\n",
    "l1 = list(t1)\n",
    "l1[2] = 100\n",
    "t1 = tuple(l1)\n",
    "t1"
   ]
  },
  {
   "cell_type": "code",
   "execution_count": 45,
   "metadata": {},
   "outputs": [
    {
     "data": {
      "text/plain": [
       "{'name': 'pranathi', 'roll number': 12, 'course': 'cse', 'address': 'hyd'}"
      ]
     },
     "execution_count": 45,
     "metadata": {},
     "output_type": "execute_result"
    }
   ],
   "source": [
    "#dict1 = {key1:value1,key2:value2,.....}\n",
    "#rue sfor keys : \n",
    "#1.keys should be unique \n",
    "#2. keys should be immutable(numbrs,strings,tuple)\n",
    "s1 = {\"name\":\"pranathi\",\"roll number\":12,\"course\":\"cse\"}\n",
    "#Adding new entry\n",
    "s1[\"address\"] = \"hyd\"\n",
    "s1"
   ]
  },
  {
   "cell_type": "code",
   "execution_count": 46,
   "metadata": {},
   "outputs": [
    {
     "data": {
      "text/plain": [
       "{'name': 'pranathi', 'roll number': 12, 'address': 'hyd'}"
      ]
     },
     "execution_count": 46,
     "metadata": {},
     "output_type": "execute_result"
    }
   ],
   "source": [
    "del s1[\"course\"]\n",
    "s1"
   ]
  },
  {
   "cell_type": "code",
   "execution_count": 47,
   "metadata": {},
   "outputs": [
    {
     "data": {
      "text/plain": [
       "{'name': 'pranathi', 'roll number': 12, 'address': 'bangalore'}"
      ]
     },
     "execution_count": 47,
     "metadata": {},
     "output_type": "execute_result"
    }
   ],
   "source": [
    "#update dictionary\n",
    "s1[\"address\"] = \"bangalore\"\n",
    "s1"
   ]
  }
 ],
 "metadata": {
  "kernelspec": {
   "display_name": "Python 3",
   "language": "python",
   "name": "python3"
  },
  "language_info": {
   "codemirror_mode": {
    "name": "ipython",
    "version": 3
   },
   "file_extension": ".py",
   "mimetype": "text/x-python",
   "name": "python",
   "nbconvert_exporter": "python",
   "pygments_lexer": "ipython3",
   "version": "3.7.4"
  }
 },
 "nbformat": 4,
 "nbformat_minor": 2
}
