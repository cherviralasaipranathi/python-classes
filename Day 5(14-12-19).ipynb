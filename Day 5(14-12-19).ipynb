{
 "cells": [
  {
   "cell_type": "code",
   "execution_count": 1,
   "metadata": {},
   "outputs": [
    {
     "data": {
      "text/plain": [
       "3.3333333333333335"
      ]
     },
     "execution_count": 1,
     "metadata": {},
     "output_type": "execute_result"
    }
   ],
   "source": [
    "10/3"
   ]
  },
  {
   "cell_type": "code",
   "execution_count": 2,
   "metadata": {},
   "outputs": [
    {
     "data": {
      "text/plain": [
       "6"
      ]
     },
     "execution_count": 2,
     "metadata": {},
     "output_type": "execute_result"
    }
   ],
   "source": [
    "20//3"
   ]
  },
  {
   "cell_type": "code",
   "execution_count": 3,
   "metadata": {},
   "outputs": [
    {
     "data": {
      "text/plain": [
       "6.666666666666667"
      ]
     },
     "execution_count": 3,
     "metadata": {},
     "output_type": "execute_result"
    }
   ],
   "source": [
    "20/3"
   ]
  },
  {
   "cell_type": "code",
   "execution_count": 8,
   "metadata": {},
   "outputs": [
    {
     "data": {
      "text/plain": [
       "16"
      ]
     },
     "execution_count": 8,
     "metadata": {},
     "output_type": "execute_result"
    }
   ],
   "source": [
    "2**4"
   ]
  },
  {
   "cell_type": "code",
   "execution_count": 12,
   "metadata": {},
   "outputs": [
    {
     "data": {
      "text/plain": [
       "True"
      ]
     },
     "execution_count": 12,
     "metadata": {},
     "output_type": "execute_result"
    }
   ],
   "source": [
    "12>45 or 13>5"
   ]
  },
  {
   "cell_type": "code",
   "execution_count": 13,
   "metadata": {},
   "outputs": [
    {
     "data": {
      "text/plain": [
       "False"
      ]
     },
     "execution_count": 13,
     "metadata": {},
     "output_type": "execute_result"
    }
   ],
   "source": [
    "not 1>0"
   ]
  },
  {
   "cell_type": "code",
   "execution_count": 16,
   "metadata": {},
   "outputs": [
    {
     "name": "stdout",
     "output_type": "stream",
     "text": [
      "False\n",
      "True\n"
     ]
    }
   ],
   "source": [
    "#Membership operators --->in, not in\n",
    "str1 = \"abc efg\"\n",
    "print('d' in str1)\n",
    "print('efd' not in str1)\n"
   ]
  },
  {
   "cell_type": "code",
   "execution_count": 23,
   "metadata": {},
   "outputs": [
    {
     "data": {
      "text/plain": [
       "False"
      ]
     },
     "execution_count": 23,
     "metadata": {},
     "output_type": "execute_result"
    }
   ],
   "source": [
    "#identity operators-->is,is not\n",
    "x = 5\n",
    "y = 10\n",
    "z = 5\n",
    "x is y"
   ]
  },
  {
   "cell_type": "code",
   "execution_count": 19,
   "metadata": {},
   "outputs": [
    {
     "name": "stdout",
     "output_type": "stream",
     "text": [
      "140708442579472 140708442579632\n"
     ]
    }
   ],
   "source": [
    "print(id(x),id(y))"
   ]
  },
  {
   "cell_type": "code",
   "execution_count": 26,
   "metadata": {},
   "outputs": [
    {
     "name": "stdout",
     "output_type": "stream",
     "text": [
      "x<y\n"
     ]
    }
   ],
   "source": [
    "x =10\n",
    "y = 20\n",
    "print(\"x>y\") if x>y else print(\"x<y\")"
   ]
  },
  {
   "cell_type": "code",
   "execution_count": 30,
   "metadata": {},
   "outputs": [
    {
     "name": "stdout",
     "output_type": "stream",
     "text": [
      "x<y\n",
      "hello python\n"
     ]
    }
   ],
   "source": [
    "if x<y:\n",
    "    print(\"x<y\")\n",
    "    if 12<78:\n",
    "        print(\"hello\",end=' ')\n",
    "        print(\"python\")\n",
    "    else:\n",
    "        print (\"hi\")   \n",
    "else: \n",
    "    print(\"x>y\")"
   ]
  },
  {
   "cell_type": "code",
   "execution_count": 33,
   "metadata": {},
   "outputs": [
    {
     "name": "stdout",
     "output_type": "stream",
     "text": [
      "enter a number0\n",
      "zero\n"
     ]
    }
   ],
   "source": [
    "#accept a number as input and print whether it is positive , negative or zero.\n",
    "a = int(input('enter a number')) \n",
    "if a >= 0:\n",
    "    if a>0:\n",
    "        print(\"positive\")\n",
    "    else:\n",
    "        print(\"zero\")\n",
    "else:\n",
    "    print(\"negative\")"
   ]
  },
  {
   "cell_type": "code",
   "execution_count": 34,
   "metadata": {},
   "outputs": [
    {
     "name": "stdout",
     "output_type": "stream",
     "text": [
      "enter a number2\n",
      "positive\n"
     ]
    }
   ],
   "source": [
    "a = int(input('enter a number')) \n",
    "if a >0 :\n",
    "    print(\"positive\")\n",
    "elif a==0 :\n",
    "    print(\"zero\")\n",
    "elif a<0 :\n",
    "    print(\"negative\")"
   ]
  },
  {
   "cell_type": "code",
   "execution_count": 42,
   "metadata": {},
   "outputs": [
    {
     "name": "stdout",
     "output_type": "stream",
     "text": [
      "enter a number6\n",
      "6\n"
     ]
    }
   ],
   "source": [
    "# Accept a number as an input and print the number if it is \n",
    "# divisible by 2 and 3 but not 4\n",
    "a = int(input('enter a number'))\n",
    "if (a%2==0 and a%3==0 ) and (a%4 !=0):\n",
    "    print(a)"
   ]
  },
  {
   "cell_type": "code",
   "execution_count": 48,
   "metadata": {},
   "outputs": [
    {
     "name": "stdout",
     "output_type": "stream",
     "text": [
      "40 40 40\n",
      "grade D\n"
     ]
    }
   ],
   "source": [
    "# Accept 3 subject marks of the student \n",
    "# if he gets >30 in all the subject --->average anf if  <30 in any subject --->fail\n",
    "#avg>75 -->'A'\n",
    "#avg>65 and avg<75 -->'B'\n",
    "#avg>50 and avg<60 -->'C'\n",
    "#avg>30 and avg<50 -->'D'\n",
    "#else --> Fail\n",
    "#sub1 = int(input(\"enter 1st sub marks\"))\n",
    "#sub2 = int(input(\"enter 2nd sub marks\"))\n",
    "#sub3 = int(input(\"enter 3rd sub marks\"))\n",
    "sub1,sub2,sub3 = map(int,input().split())\n",
    "if (sub1>30 and sub2>30 and sub3>30):\n",
    "    avg=(sub1+sub2+sub3)/3\n",
    "    if avg>75:\n",
    "        print(\"grade A\")\n",
    "    elif avg>65 and avg<75:\n",
    "        print(\"grade B\")\n",
    "    elif avg>50 and avg<60:\n",
    "        print(\"grade C\")\n",
    "    elif avg>30 and avg<50:\n",
    "        print(\"grade D\")\n",
    "    else:\n",
    "        print(\"Fail\")\n",
    "else:\n",
    "    print(\"Fail\")"
   ]
  },
  {
   "cell_type": "code",
   "execution_count": 50,
   "metadata": {},
   "outputs": [
    {
     "name": "stdout",
     "output_type": "stream",
     "text": [
      "10\n",
      "1 2 3 4 5 6 7 8 9 10 "
     ]
    }
   ],
   "source": [
    "#while loop\n",
    "i = 1\n",
    "n = int(input())\n",
    "while i<=n:\n",
    "    print(i,end = \" \")\n",
    "    i += 1"
   ]
  },
  {
   "cell_type": "code",
   "execution_count": 51,
   "metadata": {},
   "outputs": [
    {
     "name": "stdout",
     "output_type": "stream",
     "text": [
      "10\n",
      "55\n"
     ]
    }
   ],
   "source": [
    "#sum of n natural number in the given range\n",
    "#while loop\n",
    "i = 1\n",
    "sum = 0\n",
    "n = int(input())\n",
    "while i<=n:\n",
    "    sum +=i\n",
    "    i += 1\n",
    "print(sum)\n",
    " "
   ]
  },
  {
   "cell_type": "code",
   "execution_count": 54,
   "metadata": {
    "scrolled": true
   },
   "outputs": [
    {
     "name": "stdout",
     "output_type": "stream",
     "text": [
      "10\n",
      "30\n"
     ]
    }
   ],
   "source": [
    "#sum of even natural numbers\n",
    "i = 1\n",
    "sum = 0\n",
    "n = int(input())\n",
    "while i<=n:\n",
    "    if i%2==0:\n",
    "         sum +=i\n",
    "    i += 1\n",
    "print(sum)"
   ]
  },
  {
   "cell_type": "code",
   "execution_count": 59,
   "metadata": {},
   "outputs": [
    {
     "name": "stdout",
     "output_type": "stream",
     "text": [
      "123\n",
      "3  2  1  "
     ]
    }
   ],
   "source": [
    "#print digits of a given number\n",
    "a = int(input())\n",
    "while !=0:\n",
    "    print(a%10,end =\"  \")\n",
    "    a = a//10 "
   ]
  },
  {
   "cell_type": "code",
   "execution_count": 61,
   "metadata": {},
   "outputs": [
    {
     "name": "stdout",
     "output_type": "stream",
     "text": [
      "123\n",
      "6\n"
     ]
    }
   ],
   "source": [
    "# sum of given numbers\n",
    "a = int(input())\n",
    "sum = 0 \n",
    "while a!=0:\n",
    "    sum = sum+a%10\n",
    "    a = a//10\n",
    "print(sum)"
   ]
  },
  {
   "cell_type": "code",
   "execution_count": 67,
   "metadata": {},
   "outputs": [
    {
     "name": "stdout",
     "output_type": "stream",
     "text": [
      "26\n"
     ]
    }
   ],
   "source": [
    "string = \"application1889\"\n",
    "# sum of digits in the string --> 1+8+8+9=26\n",
    "i = 0\n",
    "sum = 0\n",
    "while i<len(string):\n",
    "    if string[i].isdigit():\n",
    "    #if string[i].ord()>=48 and string[i].ord()<=57:\n",
    "        sum += int(string[i])\n",
    "    i +=1\n",
    "print(sum)\n",
    "    "
   ]
  },
  {
   "cell_type": "code",
   "execution_count": 68,
   "metadata": {},
   "outputs": [
    {
     "name": "stdout",
     "output_type": "stream",
     "text": [
      "26\n"
     ]
    }
   ],
   "source": [
    "string = \"application1889\"\n",
    "# sum of digits in the string --> 1+8+8+9=26\n",
    "i = 0\n",
    "sum = 0\n",
    "for i in string:\n",
    "    if i.isdigit():\n",
    "        sum += int(i)\n",
    "print(sum)\n"
   ]
  },
  {
   "cell_type": "code",
   "execution_count": 70,
   "metadata": {},
   "outputs": [
    {
     "ename": "IndentationError",
     "evalue": "expected an indented block (<ipython-input-70-3ecd138e2d9e>, line 6)",
     "output_type": "error",
     "traceback": [
      "\u001b[1;36m  File \u001b[1;32m\"<ipython-input-70-3ecd138e2d9e>\"\u001b[1;36m, line \u001b[1;32m6\u001b[0m\n\u001b[1;33m    print(i,end = \" \")\u001b[0m\n\u001b[1;37m        ^\u001b[0m\n\u001b[1;31mIndentationError\u001b[0m\u001b[1;31m:\u001b[0m expected an indented block\n"
     ]
    }
   ],
   "source": [
    "#input = abcdefghijklmnopq.....z\n",
    "# width =4\n",
    "\n"
   ]
  }
 ],
 "metadata": {
  "kernelspec": {
   "display_name": "Python 3",
   "language": "python",
   "name": "python3"
  },
  "language_info": {
   "codemirror_mode": {
    "name": "ipython",
    "version": 3
   },
   "file_extension": ".py",
   "mimetype": "text/x-python",
   "name": "python",
   "nbconvert_exporter": "python",
   "pygments_lexer": "ipython3",
   "version": "3.7.4"
  }
 },
 "nbformat": 4,
 "nbformat_minor": 2
}
